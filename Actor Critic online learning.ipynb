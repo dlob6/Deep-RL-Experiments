{
 "cells": [
  {
   "cell_type": "code",
   "execution_count": 1,
   "metadata": {},
   "outputs": [],
   "source": [
    "import numpy as np\n",
    "import torch\n",
    "import torch.nn.functional as F\n",
    "import gym\n",
    "from torch import nn\n",
    "import matplotlib.pyplot as plt"
   ]
  },
  {
   "cell_type": "code",
   "execution_count": 2,
   "metadata": {},
   "outputs": [],
   "source": [
    "class Agent(nn.Module):\n",
    "    def __init__(self, state_dim, n_actions, n_hidden = 32):\n",
    "        super().__init__()\n",
    "        self.state_extractor = nn.Linear(state_dim, n_hidden)\n",
    "        \n",
    "        self.pre_actor = nn.Linear(n_hidden, n_hidden)\n",
    "        self.actor = nn.Linear(n_hidden, n_actions)\n",
    "        \n",
    "        self.pre_critic = nn.Linear(n_hidden, n_hidden)\n",
    "        self.critic = nn.Linear(n_hidden, 1)\n",
    "        \n",
    "    def forward(self, x):\n",
    "        state_embedding = F.leaky_relu(self.state_extractor(x))\n",
    "        \n",
    "        action_logits = F.leaky_relu(self.pre_actor(state_embedding))\n",
    "        action_logits = self.actor(action_logits)\n",
    "        \n",
    "        value = F.leaky_relu(self.pre_critic(state_embedding))\n",
    "        value = self.critic(value)\n",
    "        return action_logits, value.squeeze(-1), state_embedding\n",
    "    \n",
    "    def sample_action(self, state):\n",
    "        action_logits, value, state_embedding = self(state)\n",
    "        action_probs = F.softmax(action_logits, dim = -1)\n",
    "        dist = torch.distributions.Categorical(probs=action_probs)\n",
    "        action = dist.sample()\n",
    "        log_probs = dist.log_prob(action)\n",
    "        entropy = dist.entropy()\n",
    "        return action, value, log_probs, entropy, state_embedding\n",
    "    \n",
    "def t(x): return torch.from_numpy(x).float()"
   ]
  },
  {
   "cell_type": "code",
   "execution_count": 3,
   "metadata": {},
   "outputs": [],
   "source": [
    "env = gym.make(\"CartPole-v0\").unwrapped\n"
   ]
  },
  {
   "cell_type": "code",
   "execution_count": 4,
   "metadata": {},
   "outputs": [],
   "source": [
    "n_episodes = 500\n",
    "state_dim = env.observation_space.shape[0]\n",
    "n_actions = env.action_space.n\n",
    "agent = Agent(state_dim, n_actions)\n",
    "adam = torch.optim.Adam(agent.parameters())\n",
    "cos_lr = torch.optim.lr_scheduler.OneCycleLR(adam, max_lr = 1e-3, \n",
    "                                             total_steps = n_episodes, \n",
    "                                             final_div_factor = 100)\n",
    "gamma = 0.99"
   ]
  },
  {
   "cell_type": "code",
   "execution_count": 5,
   "metadata": {},
   "outputs": [
    {
     "name": "stdout",
     "output_type": "stream",
     "text": [
      "Average reward of last 100 games 24.0\n",
      "Average reward of last 100 games 20.33\n",
      "Average reward of last 100 games 44.38\n",
      "Average reward of last 100 games 124.76\n",
      "VICTORY\n"
     ]
    }
   ],
   "source": [
    "episode_rewards = []\n",
    "\n",
    "for i in range(n_episodes):\n",
    "    done = False\n",
    "    total_reward = 0\n",
    "    state = env.reset()\n",
    "    av_rewards = []\n",
    "    entropy_factor = 0.01\n",
    "\n",
    "    while not done:\n",
    "        \n",
    "        # observe state and take action\n",
    "        action, value, log_probs, entropy, state_embedding = agent.sample_action(t(state))\n",
    "        # get rewarded for action taken\n",
    "        next_state, reward, done, info = env.step(action.detach().data.numpy())\n",
    "        \n",
    "        total_reward += reward\n",
    "        state = next_state\n",
    "        \n",
    "        # compute advantage: reward + sum of discounted rewards - value\n",
    "        advantage = reward\n",
    "        if not done:\n",
    "            _, future_value, _, _, _ = agent.sample_action(t(next_state))\n",
    "            advantage += gamma * future_value\n",
    "        advantage -= value\n",
    "        \n",
    "        critic_loss = advantage.pow(2).mean()\n",
    "        actor_loss = -log_probs * (advantage.detach())\n",
    "        loss = critic_loss + 0.5 * actor_loss - entropy_factor * entropy\n",
    "        \n",
    "        adam.zero_grad()\n",
    "        loss.backward()\n",
    "        adam.step()\n",
    "        \n",
    "        env.render()\n",
    "    episode_rewards.append(total_reward)\n",
    "    average_100_games = np.mean(episode_rewards[-100:])\n",
    "    entropy_factor *= 0.99\n",
    "    \n",
    "    if i % 100 == 0:\n",
    "        print(f\"Average reward of last 100 games {average_100_games}\")\n",
    "        \n",
    "    if average_100_games > 195:\n",
    "        print(\"VICTORY\")\n",
    "        break\n",
    "    \n",
    "    cos_lr.step()"
   ]
  },
  {
   "cell_type": "code",
   "execution_count": null,
   "metadata": {},
   "outputs": [],
   "source": []
  }
 ],
 "metadata": {
  "kernelspec": {
   "display_name": "Python 3",
   "language": "python",
   "name": "python3"
  },
  "language_info": {
   "codemirror_mode": {
    "name": "ipython",
    "version": 3
   },
   "file_extension": ".py",
   "mimetype": "text/x-python",
   "name": "python",
   "nbconvert_exporter": "python",
   "pygments_lexer": "ipython3",
   "version": "3.7.4"
  }
 },
 "nbformat": 4,
 "nbformat_minor": 2
}
